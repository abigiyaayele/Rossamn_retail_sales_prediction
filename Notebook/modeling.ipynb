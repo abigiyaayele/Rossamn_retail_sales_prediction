{
 "cells": [
  {
   "cell_type": "code",
   "execution_count": 131,
   "id": "915484a3",
   "metadata": {},
   "outputs": [],
   "source": [
    "import pandas as pd\n",
    "import seaborn as sns\n",
    "from sklearn.model_selection import train_test_split \n",
    "from sklearn.linear_model import LinearRegression\n",
    "from sklearn.preprocessing import StandardScaler\n",
    "from sklearn.ensemble import RandomForestRegressor\n",
    "from sklearn.compose import ColumnTransformer\n",
    "from sklearn.pipeline import Pipeline\n",
    "from sklearn.impute import SimpleImputer\n",
    "from sklearn import preprocessing\n",
    "from sklearn import metrics\n",
    "import numpy as np \n",
    "import matplotlib.pyplot as plt\n",
    "import category_encoders as ce\n",
    "%matplotlib inline\n",
    "import pickle\n",
    "from datetime import datetime\n",
    "from pickle import dump\n",
    "import mlflow\n",
    "from sklearn.svm import SVC\n",
    "from sklearn.model_selection import train_test_split, GridSearchCV\n",
    "import warnings\n",
    "warnings.filterwarnings(\"ignore\")\n",
    "np.random.seed(40)\n",
    "from sklearn.metrics import mean_squared_error, mean_absolute_error, r2_score\n",
    "from sklearn.model_selection import train_test_split\n",
    "from sklearn.linear_model import ElasticNet\n",
    "from urllib.parse import urlparse\n",
    "import mlflow\n",
    "import mlflow.sklearn"
   ]
  },
  {
   "cell_type": "code",
   "execution_count": 133,
   "id": "8ee402e3",
   "metadata": {},
   "outputs": [
    {
     "name": "stdout",
     "output_type": "stream",
     "text": [
      "1017209\n"
     ]
    },
    {
     "data": {
      "text/html": [
       "<div>\n",
       "<style scoped>\n",
       "    .dataframe tbody tr th:only-of-type {\n",
       "        vertical-align: middle;\n",
       "    }\n",
       "\n",
       "    .dataframe tbody tr th {\n",
       "        vertical-align: top;\n",
       "    }\n",
       "\n",
       "    .dataframe thead th {\n",
       "        text-align: right;\n",
       "    }\n",
       "</style>\n",
       "<table border=\"1\" class=\"dataframe\">\n",
       "  <thead>\n",
       "    <tr style=\"text-align: right;\">\n",
       "      <th></th>\n",
       "      <th>Store</th>\n",
       "      <th>DayOfWeek</th>\n",
       "      <th>Date</th>\n",
       "      <th>Sales</th>\n",
       "      <th>Customers</th>\n",
       "      <th>Open</th>\n",
       "      <th>Promo</th>\n",
       "      <th>StateHoliday</th>\n",
       "      <th>SchoolHoliday</th>\n",
       "      <th>StoreType</th>\n",
       "      <th>Assortment</th>\n",
       "      <th>CompetitionDistance</th>\n",
       "      <th>CompetitionOpenSinceMonth</th>\n",
       "      <th>CompetitionOpenSinceYear</th>\n",
       "      <th>Promo2</th>\n",
       "      <th>Promo2SinceWeek</th>\n",
       "      <th>Promo2SinceYear</th>\n",
       "      <th>PromoInterval</th>\n",
       "      <th>month</th>\n",
       "      <th>day_of_month</th>\n",
       "    </tr>\n",
       "  </thead>\n",
       "  <tbody>\n",
       "    <tr>\n",
       "      <th>0</th>\n",
       "      <td>1</td>\n",
       "      <td>5</td>\n",
       "      <td>2015-07-31</td>\n",
       "      <td>5263.0</td>\n",
       "      <td>555.0</td>\n",
       "      <td>1</td>\n",
       "      <td>1</td>\n",
       "      <td>0</td>\n",
       "      <td>1</td>\n",
       "      <td>c</td>\n",
       "      <td>a</td>\n",
       "      <td>1270.0</td>\n",
       "      <td>9.0</td>\n",
       "      <td>2008.0</td>\n",
       "      <td>0</td>\n",
       "      <td>unknown</td>\n",
       "      <td>unknown</td>\n",
       "      <td>unknown</td>\n",
       "      <td>7</td>\n",
       "      <td>31</td>\n",
       "    </tr>\n",
       "    <tr>\n",
       "      <th>1</th>\n",
       "      <td>2</td>\n",
       "      <td>5</td>\n",
       "      <td>2015-07-31</td>\n",
       "      <td>6064.0</td>\n",
       "      <td>625.0</td>\n",
       "      <td>1</td>\n",
       "      <td>1</td>\n",
       "      <td>0</td>\n",
       "      <td>1</td>\n",
       "      <td>a</td>\n",
       "      <td>a</td>\n",
       "      <td>570.0</td>\n",
       "      <td>11.0</td>\n",
       "      <td>2007.0</td>\n",
       "      <td>1</td>\n",
       "      <td>13.0</td>\n",
       "      <td>2010.0</td>\n",
       "      <td>Jan,Apr,Jul,Oct</td>\n",
       "      <td>7</td>\n",
       "      <td>31</td>\n",
       "    </tr>\n",
       "    <tr>\n",
       "      <th>2</th>\n",
       "      <td>3</td>\n",
       "      <td>5</td>\n",
       "      <td>2015-07-31</td>\n",
       "      <td>8314.0</td>\n",
       "      <td>821.0</td>\n",
       "      <td>1</td>\n",
       "      <td>1</td>\n",
       "      <td>0</td>\n",
       "      <td>1</td>\n",
       "      <td>a</td>\n",
       "      <td>a</td>\n",
       "      <td>14130.0</td>\n",
       "      <td>12.0</td>\n",
       "      <td>2006.0</td>\n",
       "      <td>1</td>\n",
       "      <td>14.0</td>\n",
       "      <td>2011.0</td>\n",
       "      <td>Jan,Apr,Jul,Oct</td>\n",
       "      <td>7</td>\n",
       "      <td>31</td>\n",
       "    </tr>\n",
       "    <tr>\n",
       "      <th>3</th>\n",
       "      <td>4</td>\n",
       "      <td>5</td>\n",
       "      <td>2015-07-31</td>\n",
       "      <td>13995.0</td>\n",
       "      <td>609.0</td>\n",
       "      <td>1</td>\n",
       "      <td>1</td>\n",
       "      <td>0</td>\n",
       "      <td>1</td>\n",
       "      <td>c</td>\n",
       "      <td>c</td>\n",
       "      <td>620.0</td>\n",
       "      <td>9.0</td>\n",
       "      <td>2009.0</td>\n",
       "      <td>0</td>\n",
       "      <td>unknown</td>\n",
       "      <td>unknown</td>\n",
       "      <td>unknown</td>\n",
       "      <td>7</td>\n",
       "      <td>31</td>\n",
       "    </tr>\n",
       "    <tr>\n",
       "      <th>4</th>\n",
       "      <td>5</td>\n",
       "      <td>5</td>\n",
       "      <td>2015-07-31</td>\n",
       "      <td>4822.0</td>\n",
       "      <td>559.0</td>\n",
       "      <td>1</td>\n",
       "      <td>1</td>\n",
       "      <td>0</td>\n",
       "      <td>1</td>\n",
       "      <td>a</td>\n",
       "      <td>a</td>\n",
       "      <td>2330.0</td>\n",
       "      <td>4.0</td>\n",
       "      <td>2015.0</td>\n",
       "      <td>0</td>\n",
       "      <td>unknown</td>\n",
       "      <td>unknown</td>\n",
       "      <td>unknown</td>\n",
       "      <td>7</td>\n",
       "      <td>31</td>\n",
       "    </tr>\n",
       "  </tbody>\n",
       "</table>\n",
       "</div>"
      ],
      "text/plain": [
       "   Store  DayOfWeek        Date    Sales  Customers  Open  Promo StateHoliday  \\\n",
       "0      1          5  2015-07-31   5263.0      555.0     1      1            0   \n",
       "1      2          5  2015-07-31   6064.0      625.0     1      1            0   \n",
       "2      3          5  2015-07-31   8314.0      821.0     1      1            0   \n",
       "3      4          5  2015-07-31  13995.0      609.0     1      1            0   \n",
       "4      5          5  2015-07-31   4822.0      559.0     1      1            0   \n",
       "\n",
       "   SchoolHoliday StoreType Assortment  CompetitionDistance  \\\n",
       "0              1         c          a               1270.0   \n",
       "1              1         a          a                570.0   \n",
       "2              1         a          a              14130.0   \n",
       "3              1         c          c                620.0   \n",
       "4              1         a          a               2330.0   \n",
       "\n",
       "  CompetitionOpenSinceMonth CompetitionOpenSinceYear  Promo2 Promo2SinceWeek  \\\n",
       "0                       9.0                   2008.0       0         unknown   \n",
       "1                      11.0                   2007.0       1            13.0   \n",
       "2                      12.0                   2006.0       1            14.0   \n",
       "3                       9.0                   2009.0       0         unknown   \n",
       "4                       4.0                   2015.0       0         unknown   \n",
       "\n",
       "  Promo2SinceYear    PromoInterval  month  day_of_month  \n",
       "0         unknown          unknown      7            31  \n",
       "1          2010.0  Jan,Apr,Jul,Oct      7            31  \n",
       "2          2011.0  Jan,Apr,Jul,Oct      7            31  \n",
       "3         unknown          unknown      7            31  \n",
       "4         unknown          unknown      7            31  "
      ]
     },
     "execution_count": 133,
     "metadata": {},
     "output_type": "execute_result"
    }
   ],
   "source": [
    "train_data = pd.read_csv('../data/train_data.csv')\n",
    "print(len(train_data))\n",
    "train_data.head()"
   ]
  },
  {
   "cell_type": "code",
   "execution_count": 134,
   "id": "609f290d",
   "metadata": {},
   "outputs": [
    {
     "data": {
      "text/plain": [
       "(1017209, 20)"
      ]
     },
     "execution_count": 134,
     "metadata": {},
     "output_type": "execute_result"
    }
   ],
   "source": [
    "na_values = ['unknown']\n",
    "df=pd.read_csv('../data/train_data.csv',na_values= na_values, keep_default_na = False)\n",
    "df.shape"
   ]
  },
  {
   "cell_type": "code",
   "execution_count": 135,
   "id": "80257685",
   "metadata": {},
   "outputs": [],
   "source": [
    "new_df = df.dropna()"
   ]
  },
  {
   "cell_type": "code",
   "execution_count": 136,
   "id": "5c3b2622",
   "metadata": {},
   "outputs": [
    {
     "data": {
      "text/plain": [
       "(324326, 20)"
      ]
     },
     "execution_count": 136,
     "metadata": {},
     "output_type": "execute_result"
    }
   ],
   "source": [
    "new_df.shape"
   ]
  },
  {
   "cell_type": "code",
   "execution_count": 137,
   "id": "385edf72",
   "metadata": {},
   "outputs": [
    {
     "data": {
      "text/html": [
       "<div>\n",
       "<style scoped>\n",
       "    .dataframe tbody tr th:only-of-type {\n",
       "        vertical-align: middle;\n",
       "    }\n",
       "\n",
       "    .dataframe tbody tr th {\n",
       "        vertical-align: top;\n",
       "    }\n",
       "\n",
       "    .dataframe thead th {\n",
       "        text-align: right;\n",
       "    }\n",
       "</style>\n",
       "<table border=\"1\" class=\"dataframe\">\n",
       "  <thead>\n",
       "    <tr style=\"text-align: right;\">\n",
       "      <th></th>\n",
       "      <th>Store</th>\n",
       "      <th>DayOfWeek</th>\n",
       "      <th>Date</th>\n",
       "      <th>Sales</th>\n",
       "      <th>Customers</th>\n",
       "      <th>Open</th>\n",
       "      <th>Promo</th>\n",
       "      <th>StateHoliday</th>\n",
       "      <th>SchoolHoliday</th>\n",
       "      <th>StoreType</th>\n",
       "      <th>Assortment</th>\n",
       "      <th>CompetitionDistance</th>\n",
       "      <th>CompetitionOpenSinceMonth</th>\n",
       "      <th>CompetitionOpenSinceYear</th>\n",
       "      <th>Promo2</th>\n",
       "      <th>Promo2SinceWeek</th>\n",
       "      <th>Promo2SinceYear</th>\n",
       "      <th>PromoInterval</th>\n",
       "      <th>month</th>\n",
       "      <th>day_of_month</th>\n",
       "    </tr>\n",
       "  </thead>\n",
       "  <tbody>\n",
       "    <tr>\n",
       "      <th>1</th>\n",
       "      <td>2</td>\n",
       "      <td>5</td>\n",
       "      <td>2015-07-31</td>\n",
       "      <td>6064.0</td>\n",
       "      <td>625.0</td>\n",
       "      <td>1</td>\n",
       "      <td>1</td>\n",
       "      <td>0</td>\n",
       "      <td>1</td>\n",
       "      <td>a</td>\n",
       "      <td>a</td>\n",
       "      <td>570.0</td>\n",
       "      <td>11.0</td>\n",
       "      <td>2007.0</td>\n",
       "      <td>1</td>\n",
       "      <td>13.0</td>\n",
       "      <td>2010.0</td>\n",
       "      <td>Jan,Apr,Jul,Oct</td>\n",
       "      <td>7</td>\n",
       "      <td>31</td>\n",
       "    </tr>\n",
       "    <tr>\n",
       "      <th>2</th>\n",
       "      <td>3</td>\n",
       "      <td>5</td>\n",
       "      <td>2015-07-31</td>\n",
       "      <td>8314.0</td>\n",
       "      <td>821.0</td>\n",
       "      <td>1</td>\n",
       "      <td>1</td>\n",
       "      <td>0</td>\n",
       "      <td>1</td>\n",
       "      <td>a</td>\n",
       "      <td>a</td>\n",
       "      <td>14130.0</td>\n",
       "      <td>12.0</td>\n",
       "      <td>2006.0</td>\n",
       "      <td>1</td>\n",
       "      <td>14.0</td>\n",
       "      <td>2011.0</td>\n",
       "      <td>Jan,Apr,Jul,Oct</td>\n",
       "      <td>7</td>\n",
       "      <td>31</td>\n",
       "    </tr>\n",
       "  </tbody>\n",
       "</table>\n",
       "</div>"
      ],
      "text/plain": [
       "   Store  DayOfWeek        Date   Sales  Customers  Open  Promo StateHoliday  \\\n",
       "1      2          5  2015-07-31  6064.0      625.0     1      1            0   \n",
       "2      3          5  2015-07-31  8314.0      821.0     1      1            0   \n",
       "\n",
       "   SchoolHoliday StoreType Assortment  CompetitionDistance  \\\n",
       "1              1         a          a                570.0   \n",
       "2              1         a          a              14130.0   \n",
       "\n",
       "   CompetitionOpenSinceMonth  CompetitionOpenSinceYear  Promo2  \\\n",
       "1                       11.0                    2007.0       1   \n",
       "2                       12.0                    2006.0       1   \n",
       "\n",
       "   Promo2SinceWeek  Promo2SinceYear    PromoInterval  month  day_of_month  \n",
       "1             13.0           2010.0  Jan,Apr,Jul,Oct      7            31  \n",
       "2             14.0           2011.0  Jan,Apr,Jul,Oct      7            31  "
      ]
     },
     "execution_count": 137,
     "metadata": {},
     "output_type": "execute_result"
    }
   ],
   "source": [
    "new_df.head(2)"
   ]
  },
  {
   "cell_type": "code",
   "execution_count": 138,
   "id": "b50f21cf",
   "metadata": {},
   "outputs": [
    {
     "name": "stdout",
     "output_type": "stream",
     "text": [
      "<class 'pandas.core.frame.DataFrame'>\n",
      "Int64Index: 324326 entries, 1 to 1017204\n",
      "Data columns (total 20 columns):\n",
      " #   Column                     Non-Null Count   Dtype  \n",
      "---  ------                     --------------   -----  \n",
      " 0   Store                      324326 non-null  int64  \n",
      " 1   DayOfWeek                  324326 non-null  int64  \n",
      " 2   Date                       324326 non-null  object \n",
      " 3   Sales                      324326 non-null  float64\n",
      " 4   Customers                  324326 non-null  float64\n",
      " 5   Open                       324326 non-null  int64  \n",
      " 6   Promo                      324326 non-null  int64  \n",
      " 7   StateHoliday               324326 non-null  object \n",
      " 8   SchoolHoliday              324326 non-null  int64  \n",
      " 9   StoreType                  324326 non-null  object \n",
      " 10  Assortment                 324326 non-null  object \n",
      " 11  CompetitionDistance        324326 non-null  float64\n",
      " 12  CompetitionOpenSinceMonth  324326 non-null  float64\n",
      " 13  CompetitionOpenSinceYear   324326 non-null  float64\n",
      " 14  Promo2                     324326 non-null  int64  \n",
      " 15  Promo2SinceWeek            324326 non-null  float64\n",
      " 16  Promo2SinceYear            324326 non-null  float64\n",
      " 17  PromoInterval              324326 non-null  object \n",
      " 18  month                      324326 non-null  int64  \n",
      " 19  day_of_month               324326 non-null  int64  \n",
      "dtypes: float64(7), int64(8), object(5)\n",
      "memory usage: 52.0+ MB\n"
     ]
    }
   ],
   "source": [
    "new_df.transform(pd.to_numeric, errors = 'ignore')\n",
    "new_df.info()"
   ]
  },
  {
   "cell_type": "code",
   "execution_count": 139,
   "id": "38fb9a28",
   "metadata": {},
   "outputs": [
    {
     "data": {
      "text/html": [
       "<div>\n",
       "<style scoped>\n",
       "    .dataframe tbody tr th:only-of-type {\n",
       "        vertical-align: middle;\n",
       "    }\n",
       "\n",
       "    .dataframe tbody tr th {\n",
       "        vertical-align: top;\n",
       "    }\n",
       "\n",
       "    .dataframe thead th {\n",
       "        text-align: right;\n",
       "    }\n",
       "</style>\n",
       "<table border=\"1\" class=\"dataframe\">\n",
       "  <thead>\n",
       "    <tr style=\"text-align: right;\">\n",
       "      <th></th>\n",
       "      <th>Store</th>\n",
       "      <th>DayOfWeek</th>\n",
       "      <th>Date</th>\n",
       "      <th>Sales</th>\n",
       "      <th>Customers</th>\n",
       "      <th>Open</th>\n",
       "      <th>Promo</th>\n",
       "      <th>StateHoliday</th>\n",
       "      <th>SchoolHoliday</th>\n",
       "      <th>StoreType</th>\n",
       "      <th>Assortment</th>\n",
       "      <th>CompetitionDistance</th>\n",
       "      <th>CompetitionOpenSinceMonth</th>\n",
       "      <th>CompetitionOpenSinceYear</th>\n",
       "      <th>Promo2</th>\n",
       "      <th>Promo2SinceWeek</th>\n",
       "      <th>Promo2SinceYear</th>\n",
       "      <th>PromoInterval</th>\n",
       "      <th>month</th>\n",
       "      <th>day_of_month</th>\n",
       "    </tr>\n",
       "  </thead>\n",
       "  <tbody>\n",
       "    <tr>\n",
       "      <th>1</th>\n",
       "      <td>2</td>\n",
       "      <td>5</td>\n",
       "      <td>2015-07-31</td>\n",
       "      <td>6064.0</td>\n",
       "      <td>625.0</td>\n",
       "      <td>1</td>\n",
       "      <td>1</td>\n",
       "      <td>0</td>\n",
       "      <td>1</td>\n",
       "      <td>a</td>\n",
       "      <td>a</td>\n",
       "      <td>570.0</td>\n",
       "      <td>11.0</td>\n",
       "      <td>2007.0</td>\n",
       "      <td>1</td>\n",
       "      <td>13.0</td>\n",
       "      <td>2010.0</td>\n",
       "      <td>1</td>\n",
       "      <td>7</td>\n",
       "      <td>31</td>\n",
       "    </tr>\n",
       "    <tr>\n",
       "      <th>2</th>\n",
       "      <td>3</td>\n",
       "      <td>5</td>\n",
       "      <td>2015-07-31</td>\n",
       "      <td>8314.0</td>\n",
       "      <td>821.0</td>\n",
       "      <td>1</td>\n",
       "      <td>1</td>\n",
       "      <td>0</td>\n",
       "      <td>1</td>\n",
       "      <td>a</td>\n",
       "      <td>a</td>\n",
       "      <td>14130.0</td>\n",
       "      <td>12.0</td>\n",
       "      <td>2006.0</td>\n",
       "      <td>1</td>\n",
       "      <td>14.0</td>\n",
       "      <td>2011.0</td>\n",
       "      <td>1</td>\n",
       "      <td>7</td>\n",
       "      <td>31</td>\n",
       "    </tr>\n",
       "  </tbody>\n",
       "</table>\n",
       "</div>"
      ],
      "text/plain": [
       "   Store  DayOfWeek        Date   Sales  Customers  Open  Promo StateHoliday  \\\n",
       "1      2          5  2015-07-31  6064.0      625.0     1      1            0   \n",
       "2      3          5  2015-07-31  8314.0      821.0     1      1            0   \n",
       "\n",
       "   SchoolHoliday StoreType Assortment  CompetitionDistance  \\\n",
       "1              1         a          a                570.0   \n",
       "2              1         a          a              14130.0   \n",
       "\n",
       "   CompetitionOpenSinceMonth  CompetitionOpenSinceYear  Promo2  \\\n",
       "1                       11.0                    2007.0       1   \n",
       "2                       12.0                    2006.0       1   \n",
       "\n",
       "   Promo2SinceWeek  Promo2SinceYear  PromoInterval  month  day_of_month  \n",
       "1             13.0           2010.0              1      7            31  \n",
       "2             14.0           2011.0              1      7            31  "
      ]
     },
     "execution_count": 139,
     "metadata": {},
     "output_type": "execute_result"
    }
   ],
   "source": [
    "from sklearn.preprocessing import LabelEncoder\n",
    "enc = LabelEncoder()\n",
    "enc.fit(new_df['PromoInterval'])\n",
    "new_df['PromoInterval'] = enc.transform(new_df['PromoInterval'])\n",
    "new_df.head(2)"
   ]
  },
  {
   "cell_type": "code",
   "execution_count": 140,
   "id": "2f78c1f4",
   "metadata": {},
   "outputs": [],
   "source": [
    "from sklearn.preprocessing import LabelEncoder\n",
    "enc = LabelEncoder()\n",
    "enc.fit(new_df['Assortment'])\n",
    "new_df['Assortment'] = enc.transform(new_df['Assortment'])"
   ]
  },
  {
   "cell_type": "code",
   "execution_count": 141,
   "id": "8d409e55",
   "metadata": {},
   "outputs": [],
   "source": [
    "from sklearn.preprocessing import LabelEncoder\n",
    "enc = LabelEncoder()\n",
    "enc.fit(new_df['StoreType'])\n",
    "new_df['StoreType'] = enc.transform(new_df['StoreType'])"
   ]
  },
  {
   "cell_type": "code",
   "execution_count": 142,
   "id": "1a3d6277",
   "metadata": {},
   "outputs": [
    {
     "data": {
      "text/plain": [
       "0    188500\n",
       "0    125414\n",
       "a      6974\n",
       "b      2190\n",
       "c      1248\n",
       "Name: StateHoliday, dtype: int64"
      ]
     },
     "execution_count": 142,
     "metadata": {},
     "output_type": "execute_result"
    }
   ],
   "source": [
    "new_df.StateHoliday.value_counts()"
   ]
  },
  {
   "cell_type": "code",
   "execution_count": 143,
   "id": "1413e33b",
   "metadata": {},
   "outputs": [
    {
     "data": {
      "text/plain": [
       "(198912, 20)"
      ]
     },
     "execution_count": 143,
     "metadata": {},
     "output_type": "execute_result"
    }
   ],
   "source": [
    "new_df = new_df[new_df.StateHoliday != 0]\n",
    "new_df.shape"
   ]
  },
  {
   "cell_type": "code",
   "execution_count": 144,
   "id": "97678869",
   "metadata": {},
   "outputs": [],
   "source": [
    "from sklearn.preprocessing import LabelEncoder\n",
    "enc = LabelEncoder()\n",
    "enc.fit(new_df['StateHoliday'])\n",
    "new_df['StateHoliday'] = enc.transform(new_df['StateHoliday'])"
   ]
  },
  {
   "cell_type": "code",
   "execution_count": 145,
   "id": "10758934",
   "metadata": {},
   "outputs": [
    {
     "data": {
      "text/html": [
       "<div>\n",
       "<style scoped>\n",
       "    .dataframe tbody tr th:only-of-type {\n",
       "        vertical-align: middle;\n",
       "    }\n",
       "\n",
       "    .dataframe tbody tr th {\n",
       "        vertical-align: top;\n",
       "    }\n",
       "\n",
       "    .dataframe thead th {\n",
       "        text-align: right;\n",
       "    }\n",
       "</style>\n",
       "<table border=\"1\" class=\"dataframe\">\n",
       "  <thead>\n",
       "    <tr style=\"text-align: right;\">\n",
       "      <th></th>\n",
       "      <th>Store</th>\n",
       "      <th>DayOfWeek</th>\n",
       "      <th>Date</th>\n",
       "      <th>Sales</th>\n",
       "      <th>Customers</th>\n",
       "      <th>Open</th>\n",
       "      <th>Promo</th>\n",
       "      <th>StateHoliday</th>\n",
       "      <th>SchoolHoliday</th>\n",
       "      <th>StoreType</th>\n",
       "      <th>Assortment</th>\n",
       "      <th>CompetitionDistance</th>\n",
       "      <th>CompetitionOpenSinceMonth</th>\n",
       "      <th>CompetitionOpenSinceYear</th>\n",
       "      <th>Promo2</th>\n",
       "      <th>Promo2SinceWeek</th>\n",
       "      <th>Promo2SinceYear</th>\n",
       "      <th>PromoInterval</th>\n",
       "      <th>month</th>\n",
       "      <th>day_of_month</th>\n",
       "    </tr>\n",
       "  </thead>\n",
       "  <tbody>\n",
       "    <tr>\n",
       "      <th>32768</th>\n",
       "      <td>434</td>\n",
       "      <td>4</td>\n",
       "      <td>2015-07-02</td>\n",
       "      <td>10778.0</td>\n",
       "      <td>691.0</td>\n",
       "      <td>1</td>\n",
       "      <td>1</td>\n",
       "      <td>0</td>\n",
       "      <td>0</td>\n",
       "      <td>0</td>\n",
       "      <td>0</td>\n",
       "      <td>13020.0</td>\n",
       "      <td>8.0</td>\n",
       "      <td>2003.0</td>\n",
       "      <td>1</td>\n",
       "      <td>40.0</td>\n",
       "      <td>2014.0</td>\n",
       "      <td>1</td>\n",
       "      <td>7</td>\n",
       "      <td>2</td>\n",
       "    </tr>\n",
       "    <tr>\n",
       "      <th>32774</th>\n",
       "      <td>440</td>\n",
       "      <td>4</td>\n",
       "      <td>2015-07-02</td>\n",
       "      <td>5649.0</td>\n",
       "      <td>649.0</td>\n",
       "      <td>1</td>\n",
       "      <td>1</td>\n",
       "      <td>0</td>\n",
       "      <td>0</td>\n",
       "      <td>2</td>\n",
       "      <td>0</td>\n",
       "      <td>3900.0</td>\n",
       "      <td>4.0</td>\n",
       "      <td>2005.0</td>\n",
       "      <td>1</td>\n",
       "      <td>45.0</td>\n",
       "      <td>2009.0</td>\n",
       "      <td>0</td>\n",
       "      <td>7</td>\n",
       "      <td>2</td>\n",
       "    </tr>\n",
       "    <tr>\n",
       "      <th>32780</th>\n",
       "      <td>446</td>\n",
       "      <td>4</td>\n",
       "      <td>2015-07-02</td>\n",
       "      <td>5303.0</td>\n",
       "      <td>614.0</td>\n",
       "      <td>1</td>\n",
       "      <td>1</td>\n",
       "      <td>0</td>\n",
       "      <td>1</td>\n",
       "      <td>0</td>\n",
       "      <td>0</td>\n",
       "      <td>340.0</td>\n",
       "      <td>10.0</td>\n",
       "      <td>2000.0</td>\n",
       "      <td>1</td>\n",
       "      <td>31.0</td>\n",
       "      <td>2013.0</td>\n",
       "      <td>0</td>\n",
       "      <td>7</td>\n",
       "      <td>2</td>\n",
       "    </tr>\n",
       "    <tr>\n",
       "      <th>32783</th>\n",
       "      <td>449</td>\n",
       "      <td>4</td>\n",
       "      <td>2015-07-02</td>\n",
       "      <td>10479.0</td>\n",
       "      <td>609.0</td>\n",
       "      <td>1</td>\n",
       "      <td>1</td>\n",
       "      <td>0</td>\n",
       "      <td>0</td>\n",
       "      <td>0</td>\n",
       "      <td>1</td>\n",
       "      <td>120.0</td>\n",
       "      <td>12.0</td>\n",
       "      <td>2014.0</td>\n",
       "      <td>1</td>\n",
       "      <td>37.0</td>\n",
       "      <td>2009.0</td>\n",
       "      <td>1</td>\n",
       "      <td>7</td>\n",
       "      <td>2</td>\n",
       "    </tr>\n",
       "    <tr>\n",
       "      <th>32784</th>\n",
       "      <td>450</td>\n",
       "      <td>4</td>\n",
       "      <td>2015-07-02</td>\n",
       "      <td>12088.0</td>\n",
       "      <td>1332.0</td>\n",
       "      <td>1</td>\n",
       "      <td>1</td>\n",
       "      <td>0</td>\n",
       "      <td>0</td>\n",
       "      <td>1</td>\n",
       "      <td>0</td>\n",
       "      <td>5780.0</td>\n",
       "      <td>11.0</td>\n",
       "      <td>1994.0</td>\n",
       "      <td>1</td>\n",
       "      <td>10.0</td>\n",
       "      <td>2014.0</td>\n",
       "      <td>2</td>\n",
       "      <td>7</td>\n",
       "      <td>2</td>\n",
       "    </tr>\n",
       "  </tbody>\n",
       "</table>\n",
       "</div>"
      ],
      "text/plain": [
       "       Store  DayOfWeek        Date    Sales  Customers  Open  Promo  \\\n",
       "32768    434          4  2015-07-02  10778.0      691.0     1      1   \n",
       "32774    440          4  2015-07-02   5649.0      649.0     1      1   \n",
       "32780    446          4  2015-07-02   5303.0      614.0     1      1   \n",
       "32783    449          4  2015-07-02  10479.0      609.0     1      1   \n",
       "32784    450          4  2015-07-02  12088.0     1332.0     1      1   \n",
       "\n",
       "       StateHoliday  SchoolHoliday  StoreType  Assortment  \\\n",
       "32768             0              0          0           0   \n",
       "32774             0              0          2           0   \n",
       "32780             0              1          0           0   \n",
       "32783             0              0          0           1   \n",
       "32784             0              0          1           0   \n",
       "\n",
       "       CompetitionDistance  CompetitionOpenSinceMonth  \\\n",
       "32768              13020.0                        8.0   \n",
       "32774               3900.0                        4.0   \n",
       "32780                340.0                       10.0   \n",
       "32783                120.0                       12.0   \n",
       "32784               5780.0                       11.0   \n",
       "\n",
       "       CompetitionOpenSinceYear  Promo2  Promo2SinceWeek  Promo2SinceYear  \\\n",
       "32768                    2003.0       1             40.0           2014.0   \n",
       "32774                    2005.0       1             45.0           2009.0   \n",
       "32780                    2000.0       1             31.0           2013.0   \n",
       "32783                    2014.0       1             37.0           2009.0   \n",
       "32784                    1994.0       1             10.0           2014.0   \n",
       "\n",
       "       PromoInterval  month  day_of_month  \n",
       "32768              1      7             2  \n",
       "32774              0      7             2  \n",
       "32780              0      7             2  \n",
       "32783              1      7             2  \n",
       "32784              2      7             2  "
      ]
     },
     "execution_count": 145,
     "metadata": {},
     "output_type": "execute_result"
    }
   ],
   "source": [
    "new_df.head(5)"
   ]
  },
  {
   "cell_type": "code",
   "execution_count": 146,
   "id": "0f902a7d",
   "metadata": {},
   "outputs": [
    {
     "name": "stdout",
     "output_type": "stream",
     "text": [
      "<class 'pandas.core.frame.DataFrame'>\n",
      "Int64Index: 198912 entries, 32768 to 1017204\n",
      "Data columns (total 20 columns):\n",
      " #   Column                     Non-Null Count   Dtype         \n",
      "---  ------                     --------------   -----         \n",
      " 0   Store                      198912 non-null  int64         \n",
      " 1   DayOfWeek                  198912 non-null  int64         \n",
      " 2   Date                       198912 non-null  datetime64[ns]\n",
      " 3   Sales                      198912 non-null  float64       \n",
      " 4   Customers                  198912 non-null  float64       \n",
      " 5   Open                       198912 non-null  int64         \n",
      " 6   Promo                      198912 non-null  int64         \n",
      " 7   StateHoliday               198912 non-null  int32         \n",
      " 8   SchoolHoliday              198912 non-null  int64         \n",
      " 9   StoreType                  198912 non-null  int32         \n",
      " 10  Assortment                 198912 non-null  int32         \n",
      " 11  CompetitionDistance        198912 non-null  float64       \n",
      " 12  CompetitionOpenSinceMonth  198912 non-null  float64       \n",
      " 13  CompetitionOpenSinceYear   198912 non-null  float64       \n",
      " 14  Promo2                     198912 non-null  int64         \n",
      " 15  Promo2SinceWeek            198912 non-null  float64       \n",
      " 16  Promo2SinceYear            198912 non-null  float64       \n",
      " 17  PromoInterval              198912 non-null  int32         \n",
      " 18  month                      198912 non-null  int64         \n",
      " 19  day_of_month               198912 non-null  int64         \n",
      "dtypes: datetime64[ns](1), float64(7), int32(4), int64(8)\n",
      "memory usage: 28.8 MB\n"
     ]
    }
   ],
   "source": [
    "new_df.Date = pd.to_datetime(new_df[\"Date\"])\n",
    "new_df.info()"
   ]
  },
  {
   "cell_type": "code",
   "execution_count": 147,
   "id": "7d8f8ff2",
   "metadata": {},
   "outputs": [],
   "source": [
    "# standardize the data\n",
    "from sklearn.preprocessing import StandardScaler\n",
    "\n",
    "\n",
    "new_numerical = [] #this leaves out the categorical columns that were encoded but not replaced\n",
    "for col in new_df.columns:\n",
    "    if new_df[col].dtype in ['int16', 'int32', 'int64', 'float16', 'float32', 'float64']:\n",
    "        new_numerical.append(col)\n",
    "        \n",
    "num = new_df[new_numerical].copy()\n",
    "num = num.drop(['Store'], axis = 1) #drop the id col\n",
    "scaler = StandardScaler()\n",
    "scaled_data = scaler.fit_transform(num)"
   ]
  },
  {
   "cell_type": "code",
   "execution_count": 148,
   "id": "327f3031",
   "metadata": {},
   "outputs": [
    {
     "data": {
      "text/plain": [
       "(198912, 18)"
      ]
     },
     "execution_count": 148,
     "metadata": {},
     "output_type": "execute_result"
    }
   ],
   "source": [
    "scaled_data.shape"
   ]
  },
  {
   "cell_type": "markdown",
   "id": "d7a7ea83",
   "metadata": {},
   "source": [
    "<h1>Building models with sklearn pipelines\n",
    "    <h2>Random forests Regressor"
   ]
  },
  {
   "cell_type": "code",
   "execution_count": 149,
   "id": "533afa90",
   "metadata": {},
   "outputs": [],
   "source": [
    "## separate the independent and target variable \n",
    "X = new_df.drop(['Customers', 'Sales', 'Date'], axis = 1)\n",
    "y = new_df['Sales']"
   ]
  },
  {
   "cell_type": "code",
   "execution_count": 150,
   "id": "23de40fa",
   "metadata": {},
   "outputs": [
    {
     "name": "stdout",
     "output_type": "stream",
     "text": [
      "Training and testing split was successful.\n"
     ]
    }
   ],
   "source": [
    "# Splitting our dataset into train and test subsets\n",
    "from sklearn.model_selection import train_test_split\n",
    "X_train, X_test, y_train, y_test = train_test_split(X, y, test_size=0.2, random_state=42)\n",
    "X_train, X_valid, y_train, y_valid = train_test_split(X_train, y_train, test_size=0.2, random_state=42)\n",
    "print (\"Training and testing split was successful.\")"
   ]
  },
  {
   "cell_type": "code",
   "execution_count": 151,
   "id": "3e1a2890",
   "metadata": {},
   "outputs": [],
   "source": [
    "# Define the Pipeline\n",
    "model_pipeline = Pipeline(steps=[('random_forest', RandomForestRegressor(max_depth=10,random_state=2))])"
   ]
  },
  {
   "cell_type": "code",
   "execution_count": 152,
   "id": "f0bc6c1d",
   "metadata": {},
   "outputs": [],
   "source": [
    "model = RandomForestRegressor()"
   ]
  },
  {
   "cell_type": "code",
   "execution_count": 153,
   "id": "6a39693d",
   "metadata": {},
   "outputs": [
    {
     "data": {
      "text/html": [
       "<div>\n",
       "<style scoped>\n",
       "    .dataframe tbody tr th:only-of-type {\n",
       "        vertical-align: middle;\n",
       "    }\n",
       "\n",
       "    .dataframe tbody tr th {\n",
       "        vertical-align: top;\n",
       "    }\n",
       "\n",
       "    .dataframe thead th {\n",
       "        text-align: right;\n",
       "    }\n",
       "</style>\n",
       "<table border=\"1\" class=\"dataframe\">\n",
       "  <thead>\n",
       "    <tr style=\"text-align: right;\">\n",
       "      <th></th>\n",
       "      <th>Store</th>\n",
       "      <th>DayOfWeek</th>\n",
       "      <th>Date</th>\n",
       "      <th>Sales</th>\n",
       "      <th>Customers</th>\n",
       "      <th>Open</th>\n",
       "      <th>Promo</th>\n",
       "      <th>StateHoliday</th>\n",
       "      <th>SchoolHoliday</th>\n",
       "      <th>StoreType</th>\n",
       "      <th>Assortment</th>\n",
       "      <th>CompetitionDistance</th>\n",
       "      <th>CompetitionOpenSinceMonth</th>\n",
       "      <th>CompetitionOpenSinceYear</th>\n",
       "      <th>Promo2</th>\n",
       "      <th>Promo2SinceWeek</th>\n",
       "      <th>Promo2SinceYear</th>\n",
       "      <th>PromoInterval</th>\n",
       "      <th>month</th>\n",
       "      <th>day_of_month</th>\n",
       "    </tr>\n",
       "  </thead>\n",
       "  <tbody>\n",
       "    <tr>\n",
       "      <th>32768</th>\n",
       "      <td>434</td>\n",
       "      <td>4</td>\n",
       "      <td>2015-07-02</td>\n",
       "      <td>10778.0</td>\n",
       "      <td>691.0</td>\n",
       "      <td>1</td>\n",
       "      <td>1</td>\n",
       "      <td>0</td>\n",
       "      <td>0</td>\n",
       "      <td>0</td>\n",
       "      <td>0</td>\n",
       "      <td>13020.0</td>\n",
       "      <td>8.0</td>\n",
       "      <td>2003.0</td>\n",
       "      <td>1</td>\n",
       "      <td>40.0</td>\n",
       "      <td>2014.0</td>\n",
       "      <td>1</td>\n",
       "      <td>7</td>\n",
       "      <td>2</td>\n",
       "    </tr>\n",
       "    <tr>\n",
       "      <th>32774</th>\n",
       "      <td>440</td>\n",
       "      <td>4</td>\n",
       "      <td>2015-07-02</td>\n",
       "      <td>5649.0</td>\n",
       "      <td>649.0</td>\n",
       "      <td>1</td>\n",
       "      <td>1</td>\n",
       "      <td>0</td>\n",
       "      <td>0</td>\n",
       "      <td>2</td>\n",
       "      <td>0</td>\n",
       "      <td>3900.0</td>\n",
       "      <td>4.0</td>\n",
       "      <td>2005.0</td>\n",
       "      <td>1</td>\n",
       "      <td>45.0</td>\n",
       "      <td>2009.0</td>\n",
       "      <td>0</td>\n",
       "      <td>7</td>\n",
       "      <td>2</td>\n",
       "    </tr>\n",
       "    <tr>\n",
       "      <th>32780</th>\n",
       "      <td>446</td>\n",
       "      <td>4</td>\n",
       "      <td>2015-07-02</td>\n",
       "      <td>5303.0</td>\n",
       "      <td>614.0</td>\n",
       "      <td>1</td>\n",
       "      <td>1</td>\n",
       "      <td>0</td>\n",
       "      <td>1</td>\n",
       "      <td>0</td>\n",
       "      <td>0</td>\n",
       "      <td>340.0</td>\n",
       "      <td>10.0</td>\n",
       "      <td>2000.0</td>\n",
       "      <td>1</td>\n",
       "      <td>31.0</td>\n",
       "      <td>2013.0</td>\n",
       "      <td>0</td>\n",
       "      <td>7</td>\n",
       "      <td>2</td>\n",
       "    </tr>\n",
       "    <tr>\n",
       "      <th>32783</th>\n",
       "      <td>449</td>\n",
       "      <td>4</td>\n",
       "      <td>2015-07-02</td>\n",
       "      <td>10479.0</td>\n",
       "      <td>609.0</td>\n",
       "      <td>1</td>\n",
       "      <td>1</td>\n",
       "      <td>0</td>\n",
       "      <td>0</td>\n",
       "      <td>0</td>\n",
       "      <td>1</td>\n",
       "      <td>120.0</td>\n",
       "      <td>12.0</td>\n",
       "      <td>2014.0</td>\n",
       "      <td>1</td>\n",
       "      <td>37.0</td>\n",
       "      <td>2009.0</td>\n",
       "      <td>1</td>\n",
       "      <td>7</td>\n",
       "      <td>2</td>\n",
       "    </tr>\n",
       "    <tr>\n",
       "      <th>32784</th>\n",
       "      <td>450</td>\n",
       "      <td>4</td>\n",
       "      <td>2015-07-02</td>\n",
       "      <td>12088.0</td>\n",
       "      <td>1332.0</td>\n",
       "      <td>1</td>\n",
       "      <td>1</td>\n",
       "      <td>0</td>\n",
       "      <td>0</td>\n",
       "      <td>1</td>\n",
       "      <td>0</td>\n",
       "      <td>5780.0</td>\n",
       "      <td>11.0</td>\n",
       "      <td>1994.0</td>\n",
       "      <td>1</td>\n",
       "      <td>10.0</td>\n",
       "      <td>2014.0</td>\n",
       "      <td>2</td>\n",
       "      <td>7</td>\n",
       "      <td>2</td>\n",
       "    </tr>\n",
       "  </tbody>\n",
       "</table>\n",
       "</div>"
      ],
      "text/plain": [
       "       Store  DayOfWeek       Date    Sales  Customers  Open  Promo  \\\n",
       "32768    434          4 2015-07-02  10778.0      691.0     1      1   \n",
       "32774    440          4 2015-07-02   5649.0      649.0     1      1   \n",
       "32780    446          4 2015-07-02   5303.0      614.0     1      1   \n",
       "32783    449          4 2015-07-02  10479.0      609.0     1      1   \n",
       "32784    450          4 2015-07-02  12088.0     1332.0     1      1   \n",
       "\n",
       "       StateHoliday  SchoolHoliday  StoreType  Assortment  \\\n",
       "32768             0              0          0           0   \n",
       "32774             0              0          2           0   \n",
       "32780             0              1          0           0   \n",
       "32783             0              0          0           1   \n",
       "32784             0              0          1           0   \n",
       "\n",
       "       CompetitionDistance  CompetitionOpenSinceMonth  \\\n",
       "32768              13020.0                        8.0   \n",
       "32774               3900.0                        4.0   \n",
       "32780                340.0                       10.0   \n",
       "32783                120.0                       12.0   \n",
       "32784               5780.0                       11.0   \n",
       "\n",
       "       CompetitionOpenSinceYear  Promo2  Promo2SinceWeek  Promo2SinceYear  \\\n",
       "32768                    2003.0       1             40.0           2014.0   \n",
       "32774                    2005.0       1             45.0           2009.0   \n",
       "32780                    2000.0       1             31.0           2013.0   \n",
       "32783                    2014.0       1             37.0           2009.0   \n",
       "32784                    1994.0       1             10.0           2014.0   \n",
       "\n",
       "       PromoInterval  month  day_of_month  \n",
       "32768              1      7             2  \n",
       "32774              0      7             2  \n",
       "32780              0      7             2  \n",
       "32783              1      7             2  \n",
       "32784              2      7             2  "
      ]
     },
     "execution_count": 153,
     "metadata": {},
     "output_type": "execute_result"
    }
   ],
   "source": [
    "import pandas as pd \n",
    "pd.DataFrame(new_df).to_csv(\"../data/new_df.csv\")\n",
    "new_df.head(5)"
   ]
  },
  {
   "cell_type": "code",
   "execution_count": 154,
   "id": "d33e0667",
   "metadata": {},
   "outputs": [
    {
     "name": "stdout",
     "output_type": "stream",
     "text": [
      "(198912, 17) (198912,)\n"
     ]
    }
   ],
   "source": [
    "print(X.shape, y.shape)"
   ]
  },
  {
   "cell_type": "code",
   "execution_count": 155,
   "id": "e1636e06",
   "metadata": {},
   "outputs": [],
   "source": [
    "training_ = new_df.drop('Date', axis=1)"
   ]
  },
  {
   "cell_type": "code",
   "execution_count": 156,
   "id": "2cc72a0c",
   "metadata": {},
   "outputs": [],
   "source": [
    "# Create evaluation function (the competition uses RMSLE)\n",
    "from sklearn.metrics import mean_squared_log_error, mean_absolute_error, r2_score\n",
    "\n",
    "def rmsle(y_test, y_preds):\n",
    "    \"\"\"\n",
    "    Caculates root mean squared log error between predictions and\n",
    "    true labels.\n",
    "    \"\"\"\n",
    "    return np.sqrt(mean_squared_log_error(y_test, y_preds))\n",
    "\n",
    "# Create function to evaluate model on a few different levels\n",
    "def show_scores(model):\n",
    "    train_preds = model.predict(X_train)\n",
    "    val_preds = model.predict(X_valid)\n",
    "    scores = {\"Training MAE\": mean_absolute_error(y_train, train_preds),\n",
    "              \"Valid MAE\": mean_absolute_error(y_valid, val_preds),\n",
    "              \"Training RMSLE\": rmsle(y_train, train_preds),\n",
    "              \"Valid RMSLE\": rmsle(y_valid, val_preds),\n",
    "              \"Training R^2\": r2_score(y_train, train_preds),\n",
    "              \"Valid R^2\": r2_score(y_valid, val_preds)}\n",
    "    return scores"
   ]
  },
  {
   "cell_type": "code",
   "execution_count": 157,
   "id": "ea9fd240",
   "metadata": {},
   "outputs": [],
   "source": [
    "# Change max_samples value\n",
    "model = RandomForestRegressor(n_jobs=-1,\n",
    "                              random_state=42,\n",
    "                              min_samples_leaf=10000)"
   ]
  },
  {
   "cell_type": "code",
   "execution_count": 158,
   "id": "dacb1193",
   "metadata": {},
   "outputs": [
    {
     "data": {
      "text/plain": [
       "RandomForestRegressor(min_samples_leaf=10000, n_jobs=-1, random_state=42)"
      ]
     },
     "execution_count": 158,
     "metadata": {},
     "output_type": "execute_result"
    }
   ],
   "source": [
    "model.fit(X_train, y_train)"
   ]
  },
  {
   "cell_type": "code",
   "execution_count": 159,
   "id": "fb4ad17f",
   "metadata": {},
   "outputs": [
    {
     "data": {
      "text/plain": [
       "{'Training MAE': 1356.4144530575124,\n",
       " 'Valid MAE': 1364.6069517147023,\n",
       " 'Training RMSLE': 0.3208317230208803,\n",
       " 'Valid RMSLE': 0.3239140685237053,\n",
       " 'Training R^2': 0.6673872519616326,\n",
       " 'Valid R^2': 0.6653318237013113}"
      ]
     },
     "execution_count": 159,
     "metadata": {},
     "output_type": "execute_result"
    }
   ],
   "source": [
    "show_scores(model)"
   ]
  },
  {
   "cell_type": "code",
   "execution_count": 160,
   "id": "1f34f59c",
   "metadata": {},
   "outputs": [
    {
     "name": "stdout",
     "output_type": "stream",
     "text": [
      "Fitting 2 folds for each of 2 candidates, totalling 4 fits\n",
      "CPU times: total: 18.7 s\n",
      "Wall time: 1min 37s\n"
     ]
    },
    {
     "data": {
      "text/plain": [
       "RandomizedSearchCV(cv=2,\n",
       "                   estimator=RandomForestRegressor(n_jobs=-1, random_state=42),\n",
       "                   n_iter=2,\n",
       "                   param_distributions={'max_depth': [None, 3, 5, 10],\n",
       "                                        'max_features': [0.5, 1, 'sqrt',\n",
       "                                                         'auto'],\n",
       "                                        'min_samples_leaf': array([ 1,  3,  5,  7,  9, 11, 13, 15, 17, 19]),\n",
       "                                        'min_samples_split': array([ 2,  4,  6,  8, 10, 12, 14, 16, 18]),\n",
       "                                        'n_estimators': array([10, 20, 30, 40, 50, 60, 70, 80, 90])},\n",
       "                   verbose=True)"
      ]
     },
     "execution_count": 160,
     "metadata": {},
     "output_type": "execute_result"
    }
   ],
   "source": [
    "%%time\n",
    "from sklearn.model_selection import RandomizedSearchCV\n",
    "\n",
    "# Different RandomForestRegressor hyperparameters\n",
    "rf_grid = {\"n_estimators\": np.arange(10, 100, 10),\n",
    "           \"max_depth\": [None, 3, 5, 10],\n",
    "           \"min_samples_split\": np.arange(2, 20, 2),\n",
    "           \"min_samples_leaf\": np.arange(1, 20, 2),\n",
    "           \"max_features\": [0.5, 1, \"sqrt\", \"auto\"]}\n",
    "\n",
    "# Instantiate RandomizedSearchCV model\n",
    "rs_model = RandomizedSearchCV(RandomForestRegressor(n_jobs=-1,\n",
    "                                                    random_state=42),\n",
    "                              param_distributions=rf_grid,\n",
    "                              n_iter=2,\n",
    "                              cv=2,\n",
    "                              verbose=True)\n",
    "\n",
    "# Fit the RandomizedSearchCV model\n",
    "rs_model.fit(X_train, y_train)"
   ]
  },
  {
   "cell_type": "code",
   "execution_count": 161,
   "id": "c471bafd",
   "metadata": {},
   "outputs": [
    {
     "data": {
      "text/plain": [
       "{'n_estimators': 80,\n",
       " 'min_samples_split': 2,\n",
       " 'min_samples_leaf': 7,\n",
       " 'max_features': 'sqrt',\n",
       " 'max_depth': 10}"
      ]
     },
     "execution_count": 161,
     "metadata": {},
     "output_type": "execute_result"
    }
   ],
   "source": [
    "# Find the best model hyperparameters\n",
    "rs_model.best_params_"
   ]
  },
  {
   "cell_type": "code",
   "execution_count": 162,
   "id": "fe6bb916",
   "metadata": {},
   "outputs": [
    {
     "data": {
      "text/plain": [
       "{'Training MAE': 1069.4888798350669,\n",
       " 'Valid MAE': 1084.8863458930814,\n",
       " 'Training RMSLE': 1.0498119082121125,\n",
       " 'Valid RMSLE': 1.0436340754389397,\n",
       " 'Training R^2': 0.7908408837316027,\n",
       " 'Valid R^2': 0.7857679753381546}"
      ]
     },
     "execution_count": 162,
     "metadata": {},
     "output_type": "execute_result"
    }
   ],
   "source": [
    "# Evaluate the RandomizedSearch model\n",
    "show_scores(rs_model)"
   ]
  },
  {
   "cell_type": "code",
   "execution_count": 163,
   "id": "1668e623",
   "metadata": {},
   "outputs": [
    {
     "name": "stdout",
     "output_type": "stream",
     "text": [
      "CPU times: total: 17.8 s\n",
      "Wall time: 8.22 s\n"
     ]
    },
    {
     "data": {
      "text/plain": [
       "RandomForestRegressor(max_features=0.5, min_samples_split=14, n_estimators=40,\n",
       "                      n_jobs=-1, random_state=42)"
      ]
     },
     "execution_count": 163,
     "metadata": {},
     "output_type": "execute_result"
    }
   ],
   "source": [
    "%%time\n",
    "\n",
    "# Most ideal hyperparamters\n",
    "ideal_model = RandomForestRegressor(n_estimators=40,\n",
    "                                    min_samples_leaf=1,\n",
    "                                    min_samples_split=14,\n",
    "                                    max_features=0.5,\n",
    "                                    n_jobs=-1,\n",
    "                                    random_state=42) # random state so our results are reproducible\n",
    "\n",
    "# Fit the ideal model\n",
    "ideal_model.fit(X_train, y_train)"
   ]
  },
  {
   "cell_type": "code",
   "execution_count": 164,
   "id": "2aed57dd",
   "metadata": {},
   "outputs": [
    {
     "data": {
      "text/plain": [
       "{'Training MAE': 465.6899556127314,\n",
       " 'Valid MAE': 578.6766837999273,\n",
       " 'Training RMSLE': 0.17974672448981496,\n",
       " 'Valid RMSLE': 0.23507248442277306,\n",
       " 'Training R^2': 0.9469994961925928,\n",
       " 'Valid R^2': 0.9174481665749394}"
      ]
     },
     "execution_count": 164,
     "metadata": {},
     "output_type": "execute_result"
    }
   ],
   "source": [
    "# Scores for ideal_model (trained on all the data)\n",
    "show_scores(ideal_model)"
   ]
  },
  {
   "cell_type": "code",
   "execution_count": 165,
   "id": "b4f77217",
   "metadata": {},
   "outputs": [
    {
     "data": {
      "text/plain": [
       "{'Training MAE': 1069.4888798350669,\n",
       " 'Valid MAE': 1084.8863458930814,\n",
       " 'Training RMSLE': 1.0498119082121125,\n",
       " 'Valid RMSLE': 1.0436340754389397,\n",
       " 'Training R^2': 0.7908408837316027,\n",
       " 'Valid R^2': 0.7857679753381546}"
      ]
     },
     "execution_count": 165,
     "metadata": {},
     "output_type": "execute_result"
    }
   ],
   "source": [
    "# Scores on rs_model (only trained on ~10,000 examples)\n",
    "show_scores(rs_model)"
   ]
  },
  {
   "cell_type": "code",
   "execution_count": 166,
   "id": "c7086ed3",
   "metadata": {},
   "outputs": [],
   "source": [
    "# saving the model \n",
    "import pickle \n",
    "pickle_out = open(\"ideal_model.pkl\", mode = \"wb\") \n",
    "pickle.dump(model, pickle_out) \n",
    "pickle_out.close()"
   ]
  },
  {
   "cell_type": "code",
   "execution_count": 167,
   "id": "8fc5a1ba",
   "metadata": {},
   "outputs": [
    {
     "data": {
      "text/html": [
       "<div>\n",
       "<style scoped>\n",
       "    .dataframe tbody tr th:only-of-type {\n",
       "        vertical-align: middle;\n",
       "    }\n",
       "\n",
       "    .dataframe tbody tr th {\n",
       "        vertical-align: top;\n",
       "    }\n",
       "\n",
       "    .dataframe thead th {\n",
       "        text-align: right;\n",
       "    }\n",
       "</style>\n",
       "<table border=\"1\" class=\"dataframe\">\n",
       "  <thead>\n",
       "    <tr style=\"text-align: right;\">\n",
       "      <th></th>\n",
       "      <th>Open</th>\n",
       "      <th>CompetitionDistance</th>\n",
       "      <th>StateHoliday</th>\n",
       "      <th>StoreType</th>\n",
       "      <th>Assortment</th>\n",
       "      <th>CompetitionOpenSinceMonth</th>\n",
       "      <th>CompetitionOpenSinceYear</th>\n",
       "      <th>Promo2SinceWeek</th>\n",
       "      <th>Promo2SinceYear</th>\n",
       "      <th>PromoInterval</th>\n",
       "      <th>Id</th>\n",
       "      <th>Store</th>\n",
       "      <th>DayOfWeek</th>\n",
       "      <th>Date</th>\n",
       "      <th>Promo</th>\n",
       "      <th>SchoolHoliday</th>\n",
       "      <th>Promo2</th>\n",
       "      <th>month</th>\n",
       "      <th>day_of_month</th>\n",
       "    </tr>\n",
       "  </thead>\n",
       "  <tbody>\n",
       "    <tr>\n",
       "      <th>0</th>\n",
       "      <td>1.0</td>\n",
       "      <td>1270.0</td>\n",
       "      <td>0</td>\n",
       "      <td>c</td>\n",
       "      <td>a</td>\n",
       "      <td>9.0</td>\n",
       "      <td>2008.0</td>\n",
       "      <td>unknown</td>\n",
       "      <td>unknown</td>\n",
       "      <td>unknown</td>\n",
       "      <td>1</td>\n",
       "      <td>1</td>\n",
       "      <td>4</td>\n",
       "      <td>2015-07-31</td>\n",
       "      <td>1</td>\n",
       "      <td>0</td>\n",
       "      <td>0</td>\n",
       "      <td>7</td>\n",
       "      <td>31</td>\n",
       "    </tr>\n",
       "    <tr>\n",
       "      <th>1</th>\n",
       "      <td>1.0</td>\n",
       "      <td>14130.0</td>\n",
       "      <td>0</td>\n",
       "      <td>a</td>\n",
       "      <td>a</td>\n",
       "      <td>12.0</td>\n",
       "      <td>2006.0</td>\n",
       "      <td>14.0</td>\n",
       "      <td>2011.0</td>\n",
       "      <td>Jan,Apr,Jul,Oct</td>\n",
       "      <td>2</td>\n",
       "      <td>3</td>\n",
       "      <td>4</td>\n",
       "      <td>2015-07-31</td>\n",
       "      <td>1</td>\n",
       "      <td>0</td>\n",
       "      <td>1</td>\n",
       "      <td>7</td>\n",
       "      <td>31</td>\n",
       "    </tr>\n",
       "  </tbody>\n",
       "</table>\n",
       "</div>"
      ],
      "text/plain": [
       "   Open  CompetitionDistance StateHoliday StoreType Assortment  \\\n",
       "0   1.0               1270.0            0         c          a   \n",
       "1   1.0              14130.0            0         a          a   \n",
       "\n",
       "  CompetitionOpenSinceMonth CompetitionOpenSinceYear Promo2SinceWeek  \\\n",
       "0                       9.0                   2008.0         unknown   \n",
       "1                      12.0                   2006.0            14.0   \n",
       "\n",
       "  Promo2SinceYear    PromoInterval  Id  Store  DayOfWeek        Date  Promo  \\\n",
       "0         unknown          unknown   1      1          4  2015-07-31      1   \n",
       "1          2011.0  Jan,Apr,Jul,Oct   2      3          4  2015-07-31      1   \n",
       "\n",
       "   SchoolHoliday  Promo2  month  day_of_month  \n",
       "0              0       0      7            31  \n",
       "1              0       1      7            31  "
      ]
     },
     "execution_count": 167,
     "metadata": {},
     "output_type": "execute_result"
    }
   ],
   "source": [
    "test_data = pd.read_csv('../data/test_data.csv')\n",
    "test_data.head(2)"
   ]
  },
  {
   "cell_type": "code",
   "execution_count": 168,
   "id": "29e1a842",
   "metadata": {},
   "outputs": [
    {
     "data": {
      "text/plain": [
       "(41088, 19)"
      ]
     },
     "execution_count": 168,
     "metadata": {},
     "output_type": "execute_result"
    }
   ],
   "source": [
    "na_values = ['unknown']\n",
    "test_data=pd.read_csv('../data/test_data.csv',na_values= na_values, keep_default_na = False)\n",
    "test_data.shape"
   ]
  },
  {
   "cell_type": "code",
   "execution_count": 169,
   "id": "ff76d21b",
   "metadata": {},
   "outputs": [],
   "source": [
    "test_df = test_data.dropna()"
   ]
  },
  {
   "cell_type": "code",
   "execution_count": 170,
   "id": "94d5a3dd",
   "metadata": {},
   "outputs": [
    {
     "data": {
      "text/plain": [
       "(14832, 19)"
      ]
     },
     "execution_count": 170,
     "metadata": {},
     "output_type": "execute_result"
    }
   ],
   "source": [
    "test_df.shape"
   ]
  },
  {
   "cell_type": "code",
   "execution_count": 171,
   "id": "13c116a1",
   "metadata": {},
   "outputs": [
    {
     "name": "stdout",
     "output_type": "stream",
     "text": [
      "<class 'pandas.core.frame.DataFrame'>\n",
      "Int64Index: 14832 entries, 1 to 41083\n",
      "Data columns (total 19 columns):\n",
      " #   Column                     Non-Null Count  Dtype  \n",
      "---  ------                     --------------  -----  \n",
      " 0   Open                       14832 non-null  float64\n",
      " 1   CompetitionDistance        14832 non-null  float64\n",
      " 2   StateHoliday               14832 non-null  object \n",
      " 3   StoreType                  14832 non-null  object \n",
      " 4   Assortment                 14832 non-null  object \n",
      " 5   CompetitionOpenSinceMonth  14832 non-null  float64\n",
      " 6   CompetitionOpenSinceYear   14832 non-null  float64\n",
      " 7   Promo2SinceWeek            14832 non-null  float64\n",
      " 8   Promo2SinceYear            14832 non-null  float64\n",
      " 9   PromoInterval              14832 non-null  object \n",
      " 10  Id                         14832 non-null  int64  \n",
      " 11  Store                      14832 non-null  int64  \n",
      " 12  DayOfWeek                  14832 non-null  int64  \n",
      " 13  Date                       14832 non-null  object \n",
      " 14  Promo                      14832 non-null  int64  \n",
      " 15  SchoolHoliday              14832 non-null  int64  \n",
      " 16  Promo2                     14832 non-null  int64  \n",
      " 17  month                      14832 non-null  int64  \n",
      " 18  day_of_month               14832 non-null  int64  \n",
      "dtypes: float64(6), int64(8), object(5)\n",
      "memory usage: 2.3+ MB\n"
     ]
    }
   ],
   "source": [
    "test_df.info()"
   ]
  },
  {
   "cell_type": "code",
   "execution_count": 172,
   "id": "0bcde585",
   "metadata": {},
   "outputs": [
    {
     "data": {
      "text/html": [
       "<div>\n",
       "<style scoped>\n",
       "    .dataframe tbody tr th:only-of-type {\n",
       "        vertical-align: middle;\n",
       "    }\n",
       "\n",
       "    .dataframe tbody tr th {\n",
       "        vertical-align: top;\n",
       "    }\n",
       "\n",
       "    .dataframe thead th {\n",
       "        text-align: right;\n",
       "    }\n",
       "</style>\n",
       "<table border=\"1\" class=\"dataframe\">\n",
       "  <thead>\n",
       "    <tr style=\"text-align: right;\">\n",
       "      <th></th>\n",
       "      <th>Open</th>\n",
       "      <th>CompetitionDistance</th>\n",
       "      <th>StateHoliday</th>\n",
       "      <th>StoreType</th>\n",
       "      <th>Assortment</th>\n",
       "      <th>CompetitionOpenSinceMonth</th>\n",
       "      <th>CompetitionOpenSinceYear</th>\n",
       "      <th>Promo2SinceWeek</th>\n",
       "      <th>Promo2SinceYear</th>\n",
       "      <th>PromoInterval</th>\n",
       "      <th>Id</th>\n",
       "      <th>Store</th>\n",
       "      <th>DayOfWeek</th>\n",
       "      <th>Date</th>\n",
       "      <th>Promo</th>\n",
       "      <th>SchoolHoliday</th>\n",
       "      <th>Promo2</th>\n",
       "      <th>month</th>\n",
       "      <th>day_of_month</th>\n",
       "    </tr>\n",
       "  </thead>\n",
       "  <tbody>\n",
       "    <tr>\n",
       "      <th>1</th>\n",
       "      <td>1.0</td>\n",
       "      <td>14130.0</td>\n",
       "      <td>0</td>\n",
       "      <td>a</td>\n",
       "      <td>a</td>\n",
       "      <td>12.0</td>\n",
       "      <td>2006.0</td>\n",
       "      <td>14.0</td>\n",
       "      <td>2011.0</td>\n",
       "      <td>1</td>\n",
       "      <td>2</td>\n",
       "      <td>3</td>\n",
       "      <td>4</td>\n",
       "      <td>2015-07-31</td>\n",
       "      <td>1</td>\n",
       "      <td>0</td>\n",
       "      <td>1</td>\n",
       "      <td>7</td>\n",
       "      <td>31</td>\n",
       "    </tr>\n",
       "    <tr>\n",
       "      <th>6</th>\n",
       "      <td>1.0</td>\n",
       "      <td>960.0</td>\n",
       "      <td>0</td>\n",
       "      <td>a</td>\n",
       "      <td>c</td>\n",
       "      <td>11.0</td>\n",
       "      <td>2011.0</td>\n",
       "      <td>1.0</td>\n",
       "      <td>2012.0</td>\n",
       "      <td>1</td>\n",
       "      <td>7</td>\n",
       "      <td>11</td>\n",
       "      <td>4</td>\n",
       "      <td>2015-07-31</td>\n",
       "      <td>1</td>\n",
       "      <td>0</td>\n",
       "      <td>1</td>\n",
       "      <td>7</td>\n",
       "      <td>31</td>\n",
       "    </tr>\n",
       "  </tbody>\n",
       "</table>\n",
       "</div>"
      ],
      "text/plain": [
       "   Open  CompetitionDistance StateHoliday StoreType Assortment  \\\n",
       "1   1.0              14130.0            0         a          a   \n",
       "6   1.0                960.0            0         a          c   \n",
       "\n",
       "   CompetitionOpenSinceMonth  CompetitionOpenSinceYear  Promo2SinceWeek  \\\n",
       "1                       12.0                    2006.0             14.0   \n",
       "6                       11.0                    2011.0              1.0   \n",
       "\n",
       "   Promo2SinceYear  PromoInterval  Id  Store  DayOfWeek        Date  Promo  \\\n",
       "1           2011.0              1   2      3          4  2015-07-31      1   \n",
       "6           2012.0              1   7     11          4  2015-07-31      1   \n",
       "\n",
       "   SchoolHoliday  Promo2  month  day_of_month  \n",
       "1              0       1      7            31  \n",
       "6              0       1      7            31  "
      ]
     },
     "execution_count": 172,
     "metadata": {},
     "output_type": "execute_result"
    }
   ],
   "source": [
    "from sklearn.preprocessing import LabelEncoder\n",
    "enc = LabelEncoder()\n",
    "enc.fit(test_df['PromoInterval'])\n",
    "test_df['PromoInterval'] = enc.transform(test_df['PromoInterval'])\n",
    "test_df.head(2)"
   ]
  },
  {
   "cell_type": "code",
   "execution_count": 173,
   "id": "1dd3b6f8",
   "metadata": {},
   "outputs": [
    {
     "data": {
      "text/plain": [
       "0    11718\n",
       "0     3008\n",
       "a      106\n",
       "Name: StateHoliday, dtype: int64"
      ]
     },
     "execution_count": 173,
     "metadata": {},
     "output_type": "execute_result"
    }
   ],
   "source": [
    "test_df.StateHoliday.value_counts()"
   ]
  },
  {
   "cell_type": "code",
   "execution_count": 174,
   "id": "b1b8fd76",
   "metadata": {},
   "outputs": [
    {
     "data": {
      "text/plain": [
       "2    11718\n",
       "0     3008\n",
       "1      106\n",
       "Name: StateHoliday, dtype: int64"
      ]
     },
     "execution_count": 174,
     "metadata": {},
     "output_type": "execute_result"
    }
   ],
   "source": [
    "test_df['StateHoliday'] = test_df['StateHoliday'].replace(['a', '0'],['1', '2'])\n",
    "test_df.StateHoliday.value_counts()\n"
   ]
  },
  {
   "cell_type": "code",
   "execution_count": 175,
   "id": "3893c0a4",
   "metadata": {},
   "outputs": [],
   "source": [
    "from sklearn.preprocessing import LabelEncoder\n",
    "enc = LabelEncoder()\n",
    "enc.fit(test_df['Assortment'])\n",
    "test_df['Assortment'] = enc.transform(test_df['Assortment'])"
   ]
  },
  {
   "cell_type": "code",
   "execution_count": 176,
   "id": "17041036",
   "metadata": {},
   "outputs": [],
   "source": [
    "from sklearn.preprocessing import LabelEncoder\n",
    "enc = LabelEncoder()\n",
    "enc.fit(test_df['StoreType'])\n",
    "test_df['StoreType'] = enc.transform(test_df['StoreType'])"
   ]
  },
  {
   "cell_type": "code",
   "execution_count": 177,
   "id": "e6a4670a",
   "metadata": {},
   "outputs": [],
   "source": [
    "test_df = test_df.drop(['Date'], axis = 1)"
   ]
  },
  {
   "cell_type": "code",
   "execution_count": 178,
   "id": "e828f1b7",
   "metadata": {},
   "outputs": [
    {
     "name": "stdout",
     "output_type": "stream",
     "text": [
      "<class 'pandas.core.frame.DataFrame'>\n",
      "Int64Index: 14832 entries, 1 to 41083\n",
      "Data columns (total 18 columns):\n",
      " #   Column                     Non-Null Count  Dtype  \n",
      "---  ------                     --------------  -----  \n",
      " 0   Open                       14832 non-null  float64\n",
      " 1   CompetitionDistance        14832 non-null  float64\n",
      " 2   StateHoliday               14832 non-null  object \n",
      " 3   StoreType                  14832 non-null  int32  \n",
      " 4   Assortment                 14832 non-null  int32  \n",
      " 5   CompetitionOpenSinceMonth  14832 non-null  float64\n",
      " 6   CompetitionOpenSinceYear   14832 non-null  float64\n",
      " 7   Promo2SinceWeek            14832 non-null  float64\n",
      " 8   Promo2SinceYear            14832 non-null  float64\n",
      " 9   PromoInterval              14832 non-null  int32  \n",
      " 10  Id                         14832 non-null  int64  \n",
      " 11  Store                      14832 non-null  int64  \n",
      " 12  DayOfWeek                  14832 non-null  int64  \n",
      " 13  Promo                      14832 non-null  int64  \n",
      " 14  SchoolHoliday              14832 non-null  int64  \n",
      " 15  Promo2                     14832 non-null  int64  \n",
      " 16  month                      14832 non-null  int64  \n",
      " 17  day_of_month               14832 non-null  int64  \n",
      "dtypes: float64(6), int32(3), int64(8), object(1)\n",
      "memory usage: 2.0+ MB\n"
     ]
    }
   ],
   "source": [
    "test_df.info()"
   ]
  },
  {
   "cell_type": "code",
   "execution_count": 182,
   "id": "27e24ecd",
   "metadata": {},
   "outputs": [],
   "source": [
    "test_df = test_df.drop(['StateHoliday'], axis = 1)"
   ]
  },
  {
   "cell_type": "code",
   "execution_count": 183,
   "id": "9dc1eb74",
   "metadata": {},
   "outputs": [
    {
     "name": "stdout",
     "output_type": "stream",
     "text": [
      "<class 'pandas.core.frame.DataFrame'>\n",
      "Int64Index: 14832 entries, 1 to 41083\n",
      "Data columns (total 17 columns):\n",
      " #   Column                     Non-Null Count  Dtype  \n",
      "---  ------                     --------------  -----  \n",
      " 0   Open                       14832 non-null  float64\n",
      " 1   CompetitionDistance        14832 non-null  float64\n",
      " 2   StoreType                  14832 non-null  int32  \n",
      " 3   Assortment                 14832 non-null  int32  \n",
      " 4   CompetitionOpenSinceMonth  14832 non-null  float64\n",
      " 5   CompetitionOpenSinceYear   14832 non-null  float64\n",
      " 6   Promo2SinceWeek            14832 non-null  float64\n",
      " 7   Promo2SinceYear            14832 non-null  float64\n",
      " 8   PromoInterval              14832 non-null  int32  \n",
      " 9   Id                         14832 non-null  int64  \n",
      " 10  Store                      14832 non-null  int64  \n",
      " 11  DayOfWeek                  14832 non-null  int64  \n",
      " 12  Promo                      14832 non-null  int64  \n",
      " 13  SchoolHoliday              14832 non-null  int64  \n",
      " 14  Promo2                     14832 non-null  int64  \n",
      " 15  month                      14832 non-null  int64  \n",
      " 16  day_of_month               14832 non-null  int64  \n",
      "dtypes: float64(6), int32(3), int64(8)\n",
      "memory usage: 1.9 MB\n"
     ]
    }
   ],
   "source": [
    "test_df.info()"
   ]
  },
  {
   "cell_type": "code",
   "execution_count": 184,
   "id": "f89335b7",
   "metadata": {},
   "outputs": [],
   "source": [
    "test_preds = ideal_model.predict(test_df)"
   ]
  },
  {
   "cell_type": "code",
   "execution_count": 187,
   "id": "131fd46f",
   "metadata": {},
   "outputs": [
    {
     "data": {
      "text/html": [
       "<div>\n",
       "<style scoped>\n",
       "    .dataframe tbody tr th:only-of-type {\n",
       "        vertical-align: middle;\n",
       "    }\n",
       "\n",
       "    .dataframe tbody tr th {\n",
       "        vertical-align: top;\n",
       "    }\n",
       "\n",
       "    .dataframe thead th {\n",
       "        text-align: right;\n",
       "    }\n",
       "</style>\n",
       "<table border=\"1\" class=\"dataframe\">\n",
       "  <thead>\n",
       "    <tr style=\"text-align: right;\">\n",
       "      <th></th>\n",
       "      <th>Store</th>\n",
       "      <th>Sales</th>\n",
       "    </tr>\n",
       "  </thead>\n",
       "  <tbody>\n",
       "    <tr>\n",
       "      <th>1</th>\n",
       "      <td>3</td>\n",
       "      <td>0.000000</td>\n",
       "    </tr>\n",
       "    <tr>\n",
       "      <th>6</th>\n",
       "      <td>11</td>\n",
       "      <td>0.000000</td>\n",
       "    </tr>\n",
       "    <tr>\n",
       "      <th>9</th>\n",
       "      <td>14</td>\n",
       "      <td>0.000000</td>\n",
       "    </tr>\n",
       "    <tr>\n",
       "      <th>10</th>\n",
       "      <td>15</td>\n",
       "      <td>6225.744725</td>\n",
       "    </tr>\n",
       "    <tr>\n",
       "      <th>13</th>\n",
       "      <td>20</td>\n",
       "      <td>5211.602803</td>\n",
       "    </tr>\n",
       "    <tr>\n",
       "      <th>...</th>\n",
       "      <td>...</td>\n",
       "      <td>...</td>\n",
       "    </tr>\n",
       "    <tr>\n",
       "      <th>41079</th>\n",
       "      <td>1105</td>\n",
       "      <td>6397.252642</td>\n",
       "    </tr>\n",
       "    <tr>\n",
       "      <th>41080</th>\n",
       "      <td>1106</td>\n",
       "      <td>0.000000</td>\n",
       "    </tr>\n",
       "    <tr>\n",
       "      <th>41081</th>\n",
       "      <td>1107</td>\n",
       "      <td>0.000000</td>\n",
       "    </tr>\n",
       "    <tr>\n",
       "      <th>41082</th>\n",
       "      <td>1109</td>\n",
       "      <td>4820.667528</td>\n",
       "    </tr>\n",
       "    <tr>\n",
       "      <th>41083</th>\n",
       "      <td>1111</td>\n",
       "      <td>0.000000</td>\n",
       "    </tr>\n",
       "  </tbody>\n",
       "</table>\n",
       "<p>14832 rows × 2 columns</p>\n",
       "</div>"
      ],
      "text/plain": [
       "       Store        Sales\n",
       "1          3     0.000000\n",
       "6         11     0.000000\n",
       "9         14     0.000000\n",
       "10        15  6225.744725\n",
       "13        20  5211.602803\n",
       "...      ...          ...\n",
       "41079   1105  6397.252642\n",
       "41080   1106     0.000000\n",
       "41081   1107     0.000000\n",
       "41082   1109  4820.667528\n",
       "41083   1111     0.000000\n",
       "\n",
       "[14832 rows x 2 columns]"
      ]
     },
     "execution_count": 187,
     "metadata": {},
     "output_type": "execute_result"
    }
   ],
   "source": [
    "# Format predictions into the same format Kaggle is after\n",
    "df_preds = pd.DataFrame()\n",
    "df_preds[\"Store\"] = test_df[\"Store\"]\n",
    "df_preds[\"Sales\"] = test_preds\n",
    "df_preds"
   ]
  },
  {
   "cell_type": "code",
   "execution_count": 188,
   "id": "e6cc96de",
   "metadata": {},
   "outputs": [],
   "source": [
    "# Export prediction data\n",
    "df_preds.to_csv(\"data_prediction.csv\", index=False)"
   ]
  },
  {
   "cell_type": "markdown",
   "id": "45cc236b",
   "metadata": {},
   "source": [
    "<h2> Feature Importance"
   ]
  },
  {
   "cell_type": "code",
   "execution_count": 189,
   "id": "e682e132",
   "metadata": {},
   "outputs": [
    {
     "data": {
      "text/plain": [
       "array([0.04099714, 0.18033776, 0.41529562, 0.09844247, 0.02256311,\n",
       "       0.0033329 , 0.01123651, 0.01075631, 0.05316876, 0.02809721,\n",
       "       0.03126576, 0.        , 0.02458264, 0.02393053, 0.00993139,\n",
       "       0.01840691, 0.02765498])"
      ]
     },
     "execution_count": 189,
     "metadata": {},
     "output_type": "execute_result"
    }
   ],
   "source": [
    "# Find feature importance of our best model\n",
    "ideal_model.feature_importances_"
   ]
  },
  {
   "cell_type": "code",
   "execution_count": 190,
   "id": "6017caca",
   "metadata": {},
   "outputs": [],
   "source": [
    "# Helper function for plotting feature importance\n",
    "def plot_features(columns, importances, n=20):\n",
    "    df = (pd.DataFrame({\"features\": columns,\n",
    "                        \"feature_importances\": importances})\n",
    "          .sort_values(\"feature_importances\", ascending=False)\n",
    "          .reset_index(drop=True))\n",
    "    \n",
    "    # Plot the dataframe\n",
    "    fig, ax = plt.subplots()\n",
    "    ax.barh(df[\"features\"][:n], df[\"feature_importances\"][:20])\n",
    "    ax.set_ylabel(\"Features\")\n",
    "    ax.set_xlabel(\"Feature importance\")\n",
    "    ax.invert_yaxis()"
   ]
  },
  {
   "cell_type": "code",
   "execution_count": 191,
   "id": "430ec0a3",
   "metadata": {},
   "outputs": [
    {
     "data": {
      "image/png": "[encoded data removed]",
      "text/plain": [
       "<Figure size 432x288 with 1 Axes>"
      ]
     },
     "metadata": {
      "needs_background": "light"
     },
     "output_type": "display_data"
    }
   ],
   "source": [
    "plot_features(X_train.columns, ideal_model.feature_importances_)"
   ]
  }
 ],
 "metadata": {
  "interpreter": {
   "hash": "a077222d77dfe082b8f1dd562ad70e458ac2ab76993a0b248ab0476e32e9e8dd"
  },
  "kernelspec": {
   "display_name": "Python 3 (ipykernel)",
   "language": "python",
   "name": "python3"
  },
  "language_info": {
   "codemirror_mode": {
    "name": "ipython",
    "version": 3
   },
   "file_extension": ".py",
   "mimetype": "text/x-python",
   "name": "python",
   "nbconvert_exporter": "python",
   "pygments_lexer": "ipython3",
   "version": "3.8.8"
  }
 },
 "nbformat": 4,
 "nbformat_minor": 5
}
